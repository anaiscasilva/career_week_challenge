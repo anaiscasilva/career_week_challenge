{
 "cells": [
  {
   "cell_type": "markdown",
   "id": "ed19ec8f",
   "metadata": {},
   "source": [
    "# Load Dataset's"
   ]
  },
  {
   "cell_type": "code",
   "execution_count": 74,
   "id": "5225efe4",
   "metadata": {},
   "outputs": [],
   "source": [
    "import pandas as pd\n",
    "\n",
    "# load the data into a Pandas DataFrame\n",
    "users = pd.read_csv('users.csv')\n",
    "follows = pd.read_csv('follows.csv')"
   ]
  },
  {
   "cell_type": "code",
   "execution_count": 75,
   "id": "328167d6",
   "metadata": {},
   "outputs": [
    {
     "data": {
      "text/html": [
       "<div>\n",
       "<style scoped>\n",
       "    .dataframe tbody tr th:only-of-type {\n",
       "        vertical-align: middle;\n",
       "    }\n",
       "\n",
       "    .dataframe tbody tr th {\n",
       "        vertical-align: top;\n",
       "    }\n",
       "\n",
       "    .dataframe thead th {\n",
       "        text-align: right;\n",
       "    }\n",
       "</style>\n",
       "<table border=\"1\" class=\"dataframe\">\n",
       "  <thead>\n",
       "    <tr style=\"text-align: right;\">\n",
       "      <th></th>\n",
       "      <th>user_id</th>\n",
       "      <th>first_name</th>\n",
       "      <th>last_name</th>\n",
       "      <th>house</th>\n",
       "    </tr>\n",
       "  </thead>\n",
       "  <tbody>\n",
       "    <tr>\n",
       "      <th>0</th>\n",
       "      <td>1</td>\n",
       "      <td>Harry</td>\n",
       "      <td>Potter</td>\n",
       "      <td>Gryffindor</td>\n",
       "    </tr>\n",
       "    <tr>\n",
       "      <th>1</th>\n",
       "      <td>2</td>\n",
       "      <td>Ron</td>\n",
       "      <td>Wesley</td>\n",
       "      <td>Gryffindor</td>\n",
       "    </tr>\n",
       "    <tr>\n",
       "      <th>2</th>\n",
       "      <td>3</td>\n",
       "      <td>Hermonie</td>\n",
       "      <td>Granger</td>\n",
       "      <td>Gryffindor</td>\n",
       "    </tr>\n",
       "  </tbody>\n",
       "</table>\n",
       "</div>"
      ],
      "text/plain": [
       "   user_id first_name last_name       house\n",
       "0        1      Harry    Potter  Gryffindor\n",
       "1        2        Ron    Wesley  Gryffindor\n",
       "2        3   Hermonie   Granger  Gryffindor"
      ]
     },
     "execution_count": 75,
     "metadata": {},
     "output_type": "execute_result"
    }
   ],
   "source": [
    "users.head(3)"
   ]
  },
  {
   "cell_type": "code",
   "execution_count": 76,
   "id": "2a3621ca",
   "metadata": {},
   "outputs": [
    {
     "data": {
      "text/html": [
       "<div>\n",
       "<style scoped>\n",
       "    .dataframe tbody tr th:only-of-type {\n",
       "        vertical-align: middle;\n",
       "    }\n",
       "\n",
       "    .dataframe tbody tr th {\n",
       "        vertical-align: top;\n",
       "    }\n",
       "\n",
       "    .dataframe thead th {\n",
       "        text-align: right;\n",
       "    }\n",
       "</style>\n",
       "<table border=\"1\" class=\"dataframe\">\n",
       "  <thead>\n",
       "    <tr style=\"text-align: right;\">\n",
       "      <th></th>\n",
       "      <th>user_id</th>\n",
       "      <th>follows</th>\n",
       "      <th>date</th>\n",
       "    </tr>\n",
       "  </thead>\n",
       "  <tbody>\n",
       "    <tr>\n",
       "      <th>0</th>\n",
       "      <td>1</td>\n",
       "      <td>2</td>\n",
       "      <td>1993-09-01</td>\n",
       "    </tr>\n",
       "    <tr>\n",
       "      <th>1</th>\n",
       "      <td>2</td>\n",
       "      <td>1</td>\n",
       "      <td>1989-01-01</td>\n",
       "    </tr>\n",
       "    <tr>\n",
       "      <th>2</th>\n",
       "      <td>3</td>\n",
       "      <td>1</td>\n",
       "      <td>1993-07-01</td>\n",
       "    </tr>\n",
       "  </tbody>\n",
       "</table>\n",
       "</div>"
      ],
      "text/plain": [
       "   user_id  follows        date\n",
       "0        1        2  1993-09-01\n",
       "1        2        1  1989-01-01\n",
       "2        3        1  1993-07-01"
      ]
     },
     "execution_count": 76,
     "metadata": {},
     "output_type": "execute_result"
    }
   ],
   "source": [
    "follows.head(3)"
   ]
  },
  {
   "cell_type": "code",
   "execution_count": 78,
   "id": "cac5469f",
   "metadata": {},
   "outputs": [
    {
     "data": {
      "text/html": [
       "<div>\n",
       "<style scoped>\n",
       "    .dataframe tbody tr th:only-of-type {\n",
       "        vertical-align: middle;\n",
       "    }\n",
       "\n",
       "    .dataframe tbody tr th {\n",
       "        vertical-align: top;\n",
       "    }\n",
       "\n",
       "    .dataframe thead th {\n",
       "        text-align: right;\n",
       "    }\n",
       "</style>\n",
       "<table border=\"1\" class=\"dataframe\">\n",
       "  <thead>\n",
       "    <tr style=\"text-align: right;\">\n",
       "      <th></th>\n",
       "      <th>user_id</th>\n",
       "      <th>follows</th>\n",
       "      <th>date</th>\n",
       "    </tr>\n",
       "  </thead>\n",
       "  <tbody>\n",
       "    <tr>\n",
       "      <th>1</th>\n",
       "      <td>2</td>\n",
       "      <td>1</td>\n",
       "      <td>1989-01-01</td>\n",
       "    </tr>\n",
       "    <tr>\n",
       "      <th>2</th>\n",
       "      <td>3</td>\n",
       "      <td>1</td>\n",
       "      <td>1993-07-01</td>\n",
       "    </tr>\n",
       "    <tr>\n",
       "      <th>3</th>\n",
       "      <td>2</td>\n",
       "      <td>3</td>\n",
       "      <td>1994-10-10</td>\n",
       "    </tr>\n",
       "    <tr>\n",
       "      <th>4</th>\n",
       "      <td>3</td>\n",
       "      <td>2</td>\n",
       "      <td>1995-03-01</td>\n",
       "    </tr>\n",
       "  </tbody>\n",
       "</table>\n",
       "</div>"
      ],
      "text/plain": [
       "   user_id  follows        date\n",
       "1        2        1  1989-01-01\n",
       "2        3        1  1993-07-01\n",
       "3        2        3  1994-10-10\n",
       "4        3        2  1995-03-01"
      ]
     },
     "execution_count": 78,
     "metadata": {},
     "output_type": "execute_result"
    }
   ],
   "source": [
    "follows[1:5]"
   ]
  },
  {
   "cell_type": "markdown",
   "id": "752b383f",
   "metadata": {},
   "source": [
    "## How many users are there in each house? "
   ]
  },
  {
   "cell_type": "markdown",
   "id": "b1c5d8cb",
   "metadata": {},
   "source": [
    "SQL querie:"
   ]
  },
  {
   "cell_type": "code",
   "execution_count": null,
   "id": "df6eaef0",
   "metadata": {},
   "outputs": [],
   "source": [
    "SELECT house, COUNT(house) AS user_count \n",
    "FROM users AS u\n",
    "GROUP BY u.house"
   ]
  },
  {
   "cell_type": "code",
   "execution_count": null,
   "id": "2b01fcc4",
   "metadata": {},
   "outputs": [],
   "source": [
    "house     |USER_COUNT|\n",
    "----------+----------+\n",
    "Gryffindor|         4|\n",
    "Slytherin |         2|\n",
    "Ravenclaw |         2|\n",
    "Hufflepuff|         1|"
   ]
  },
  {
   "cell_type": "markdown",
   "id": "68f03045",
   "metadata": {},
   "source": [
    "Pandas:"
   ]
  },
  {
   "cell_type": "code",
   "execution_count": 16,
   "id": "d66ac21a",
   "metadata": {},
   "outputs": [
    {
     "data": {
      "text/plain": [
       "Gryffindor    4\n",
       "Slytherin     2\n",
       "Ravenclaw     2\n",
       "Hufflepuff    1\n",
       "Name: house, dtype: int64"
      ]
     },
     "execution_count": 16,
     "metadata": {},
     "output_type": "execute_result"
    }
   ],
   "source": [
    "users['house'].value_counts()"
   ]
  },
  {
   "cell_type": "code",
   "execution_count": 14,
   "id": "40151577",
   "metadata": {},
   "outputs": [
    {
     "data": {
      "text/html": [
       "<div>\n",
       "<style scoped>\n",
       "    .dataframe tbody tr th:only-of-type {\n",
       "        vertical-align: middle;\n",
       "    }\n",
       "\n",
       "    .dataframe tbody tr th {\n",
       "        vertical-align: top;\n",
       "    }\n",
       "\n",
       "    .dataframe thead th {\n",
       "        text-align: right;\n",
       "    }\n",
       "</style>\n",
       "<table border=\"1\" class=\"dataframe\">\n",
       "  <thead>\n",
       "    <tr style=\"text-align: right;\">\n",
       "      <th></th>\n",
       "      <th>user_id</th>\n",
       "      <th>first_name</th>\n",
       "      <th>last_name</th>\n",
       "    </tr>\n",
       "    <tr>\n",
       "      <th>house</th>\n",
       "      <th></th>\n",
       "      <th></th>\n",
       "      <th></th>\n",
       "    </tr>\n",
       "  </thead>\n",
       "  <tbody>\n",
       "    <tr>\n",
       "      <th>Gryffindor</th>\n",
       "      <td>4</td>\n",
       "      <td>4</td>\n",
       "      <td>4</td>\n",
       "    </tr>\n",
       "    <tr>\n",
       "      <th>Hufflepuff</th>\n",
       "      <td>1</td>\n",
       "      <td>1</td>\n",
       "      <td>1</td>\n",
       "    </tr>\n",
       "    <tr>\n",
       "      <th>Ravenclaw</th>\n",
       "      <td>2</td>\n",
       "      <td>2</td>\n",
       "      <td>2</td>\n",
       "    </tr>\n",
       "    <tr>\n",
       "      <th>Slytherin</th>\n",
       "      <td>2</td>\n",
       "      <td>2</td>\n",
       "      <td>2</td>\n",
       "    </tr>\n",
       "  </tbody>\n",
       "</table>\n",
       "</div>"
      ],
      "text/plain": [
       "            user_id  first_name  last_name\n",
       "house                                     \n",
       "Gryffindor        4           4          4\n",
       "Hufflepuff        1           1          1\n",
       "Ravenclaw         2           2          2\n",
       "Slytherin         2           2          2"
      ]
     },
     "execution_count": 14,
     "metadata": {},
     "output_type": "execute_result"
    }
   ],
   "source": [
    "users.groupby('house').count()"
   ]
  },
  {
   "cell_type": "markdown",
   "id": "f2877ea7",
   "metadata": {},
   "source": [
    "## List all following links that were created before September 1st, 1993 "
   ]
  },
  {
   "cell_type": "markdown",
   "id": "90df4950",
   "metadata": {},
   "source": [
    "SQL querie:"
   ]
  },
  {
   "cell_type": "code",
   "execution_count": null,
   "id": "427f8aec",
   "metadata": {},
   "outputs": [],
   "source": [
    "SELECT * \n",
    "FROM follows AS f\n",
    "WHERE f.date < '1993-09-01'\n",
    "ORDER BY f.date "
   ]
  },
  {
   "cell_type": "code",
   "execution_count": null,
   "id": "f903f88f",
   "metadata": {},
   "outputs": [],
   "source": [
    "user_id|follows|date      |\n",
    "-------+-------+----------+\n",
    "5      |6      |1986-01-10|\n",
    "4      |2      |1988-08-08|\n",
    "4      |1      |1988-08-08|\n",
    "2      |1      |1989-01-01|\n",
    "7      |1      |1990-02-02|\n",
    "3      |1      |1993-07-01|"
   ]
  },
  {
   "cell_type": "markdown",
   "id": "8da07a65",
   "metadata": {},
   "source": [
    "Pandas:"
   ]
  },
  {
   "cell_type": "code",
   "execution_count": 29,
   "id": "7381795c",
   "metadata": {},
   "outputs": [],
   "source": [
    "before_19930901 = follows[follows.date < '1993-09-01'].sort_values(by=['date'])"
   ]
  },
  {
   "cell_type": "code",
   "execution_count": 30,
   "id": "99dcb5bf",
   "metadata": {
    "scrolled": true
   },
   "outputs": [
    {
     "data": {
      "text/html": [
       "<div>\n",
       "<style scoped>\n",
       "    .dataframe tbody tr th:only-of-type {\n",
       "        vertical-align: middle;\n",
       "    }\n",
       "\n",
       "    .dataframe tbody tr th {\n",
       "        vertical-align: top;\n",
       "    }\n",
       "\n",
       "    .dataframe thead th {\n",
       "        text-align: right;\n",
       "    }\n",
       "</style>\n",
       "<table border=\"1\" class=\"dataframe\">\n",
       "  <thead>\n",
       "    <tr style=\"text-align: right;\">\n",
       "      <th></th>\n",
       "      <th>user_id</th>\n",
       "      <th>follows</th>\n",
       "      <th>date</th>\n",
       "    </tr>\n",
       "  </thead>\n",
       "  <tbody>\n",
       "    <tr>\n",
       "      <th>10</th>\n",
       "      <td>5</td>\n",
       "      <td>6</td>\n",
       "      <td>1986-01-10</td>\n",
       "    </tr>\n",
       "    <tr>\n",
       "      <th>5</th>\n",
       "      <td>4</td>\n",
       "      <td>2</td>\n",
       "      <td>1988-08-08</td>\n",
       "    </tr>\n",
       "    <tr>\n",
       "      <th>6</th>\n",
       "      <td>4</td>\n",
       "      <td>1</td>\n",
       "      <td>1988-08-08</td>\n",
       "    </tr>\n",
       "    <tr>\n",
       "      <th>1</th>\n",
       "      <td>2</td>\n",
       "      <td>1</td>\n",
       "      <td>1989-01-01</td>\n",
       "    </tr>\n",
       "    <tr>\n",
       "      <th>11</th>\n",
       "      <td>7</td>\n",
       "      <td>1</td>\n",
       "      <td>1990-02-02</td>\n",
       "    </tr>\n",
       "    <tr>\n",
       "      <th>2</th>\n",
       "      <td>3</td>\n",
       "      <td>1</td>\n",
       "      <td>1993-07-01</td>\n",
       "    </tr>\n",
       "  </tbody>\n",
       "</table>\n",
       "</div>"
      ],
      "text/plain": [
       "    user_id  follows        date\n",
       "10        5        6  1986-01-10\n",
       "5         4        2  1988-08-08\n",
       "6         4        1  1988-08-08\n",
       "1         2        1  1989-01-01\n",
       "11        7        1  1990-02-02\n",
       "2         3        1  1993-07-01"
      ]
     },
     "execution_count": 30,
     "metadata": {},
     "output_type": "execute_result"
    }
   ],
   "source": [
    "before_19930901"
   ]
  },
  {
   "cell_type": "markdown",
   "id": "96b0e2c1",
   "metadata": {},
   "source": [
    "## List all the following links established before September 1st 1993, but this time use the users first names"
   ]
  },
  {
   "cell_type": "markdown",
   "id": "8b391564",
   "metadata": {},
   "source": [
    "SQL querie:"
   ]
  },
  {
   "cell_type": "code",
   "execution_count": null,
   "id": "47a6a464",
   "metadata": {},
   "outputs": [],
   "source": [
    "SELECT follows.date, users.first_name \n",
    "FROM follows \n",
    "LEFT JOIN users ON users.user_id = follows.user_id\n",
    "WHERE follows.date < '1993-09-01'\n",
    "ORDER BY follows.date "
   ]
  },
  {
   "cell_type": "code",
   "execution_count": null,
   "id": "6206ef6f",
   "metadata": {},
   "outputs": [],
   "source": [
    "date      |first_name|\n",
    "----------+----------+\n",
    "1986-01-10|Draco     |\n",
    "1988-08-08|Ginny     |\n",
    "1988-08-08|Ginny     |\n",
    "1989-01-01|Ron       |\n",
    "1990-02-02|Luna      |\n",
    "1993-07-01|Hermonie  |"
   ]
  },
  {
   "cell_type": "markdown",
   "id": "847e64c2",
   "metadata": {},
   "source": [
    "Pandas:"
   ]
  },
  {
   "cell_type": "code",
   "execution_count": 69,
   "id": "7dac9d2a",
   "metadata": {},
   "outputs": [],
   "source": [
    "df_merged = follows.merge(users, how='left', on='user_id') "
   ]
  },
  {
   "cell_type": "code",
   "execution_count": 70,
   "id": "4b0ea975",
   "metadata": {},
   "outputs": [],
   "source": [
    "df_merged_filter = df_merged[['date', 'first_name']]"
   ]
  },
  {
   "cell_type": "code",
   "execution_count": 71,
   "id": "273b412e",
   "metadata": {},
   "outputs": [
    {
     "data": {
      "text/html": [
       "<div>\n",
       "<style scoped>\n",
       "    .dataframe tbody tr th:only-of-type {\n",
       "        vertical-align: middle;\n",
       "    }\n",
       "\n",
       "    .dataframe tbody tr th {\n",
       "        vertical-align: top;\n",
       "    }\n",
       "\n",
       "    .dataframe thead th {\n",
       "        text-align: right;\n",
       "    }\n",
       "</style>\n",
       "<table border=\"1\" class=\"dataframe\">\n",
       "  <thead>\n",
       "    <tr style=\"text-align: right;\">\n",
       "      <th></th>\n",
       "      <th>date</th>\n",
       "      <th>first_name</th>\n",
       "    </tr>\n",
       "  </thead>\n",
       "  <tbody>\n",
       "    <tr>\n",
       "      <th>0</th>\n",
       "      <td>1993-09-01</td>\n",
       "      <td>Harry</td>\n",
       "    </tr>\n",
       "    <tr>\n",
       "      <th>1</th>\n",
       "      <td>1989-01-01</td>\n",
       "      <td>Ron</td>\n",
       "    </tr>\n",
       "    <tr>\n",
       "      <th>2</th>\n",
       "      <td>1993-07-01</td>\n",
       "      <td>Hermonie</td>\n",
       "    </tr>\n",
       "  </tbody>\n",
       "</table>\n",
       "</div>"
      ],
      "text/plain": [
       "         date first_name\n",
       "0  1993-09-01      Harry\n",
       "1  1989-01-01        Ron\n",
       "2  1993-07-01   Hermonie"
      ]
     },
     "execution_count": 71,
     "metadata": {},
     "output_type": "execute_result"
    }
   ],
   "source": [
    "df_merged_filter.head(3)"
   ]
  },
  {
   "cell_type": "code",
   "execution_count": 72,
   "id": "d8b9d69c",
   "metadata": {},
   "outputs": [],
   "source": [
    "before_19930901_2 = df_merged_filter[df_merged_filter.date < '1993-09-01'].sort_values(by=['date'])"
   ]
  },
  {
   "cell_type": "code",
   "execution_count": 73,
   "id": "b6f5198d",
   "metadata": {},
   "outputs": [
    {
     "data": {
      "text/html": [
       "<div>\n",
       "<style scoped>\n",
       "    .dataframe tbody tr th:only-of-type {\n",
       "        vertical-align: middle;\n",
       "    }\n",
       "\n",
       "    .dataframe tbody tr th {\n",
       "        vertical-align: top;\n",
       "    }\n",
       "\n",
       "    .dataframe thead th {\n",
       "        text-align: right;\n",
       "    }\n",
       "</style>\n",
       "<table border=\"1\" class=\"dataframe\">\n",
       "  <thead>\n",
       "    <tr style=\"text-align: right;\">\n",
       "      <th></th>\n",
       "      <th>date</th>\n",
       "      <th>first_name</th>\n",
       "    </tr>\n",
       "  </thead>\n",
       "  <tbody>\n",
       "    <tr>\n",
       "      <th>10</th>\n",
       "      <td>1986-01-10</td>\n",
       "      <td>Draco</td>\n",
       "    </tr>\n",
       "    <tr>\n",
       "      <th>5</th>\n",
       "      <td>1988-08-08</td>\n",
       "      <td>Ginny</td>\n",
       "    </tr>\n",
       "    <tr>\n",
       "      <th>6</th>\n",
       "      <td>1988-08-08</td>\n",
       "      <td>Ginny</td>\n",
       "    </tr>\n",
       "    <tr>\n",
       "      <th>1</th>\n",
       "      <td>1989-01-01</td>\n",
       "      <td>Ron</td>\n",
       "    </tr>\n",
       "    <tr>\n",
       "      <th>11</th>\n",
       "      <td>1990-02-02</td>\n",
       "      <td>Luna</td>\n",
       "    </tr>\n",
       "    <tr>\n",
       "      <th>2</th>\n",
       "      <td>1993-07-01</td>\n",
       "      <td>Hermonie</td>\n",
       "    </tr>\n",
       "  </tbody>\n",
       "</table>\n",
       "</div>"
      ],
      "text/plain": [
       "          date first_name\n",
       "10  1986-01-10      Draco\n",
       "5   1988-08-08      Ginny\n",
       "6   1988-08-08      Ginny\n",
       "1   1989-01-01        Ron\n",
       "11  1990-02-02       Luna\n",
       "2   1993-07-01   Hermonie"
      ]
     },
     "execution_count": 73,
     "metadata": {},
     "output_type": "execute_result"
    }
   ],
   "source": [
    "before_19930901_2"
   ]
  },
  {
   "cell_type": "markdown",
   "id": "74d4c784",
   "metadata": {},
   "source": [
    "## Give a count of how many people followed each user as of 1999-12-31. Give the result in term of \"users full name, number of followers"
   ]
  },
  {
   "cell_type": "markdown",
   "id": "d25b4b20",
   "metadata": {},
   "source": [
    "SQL querie:"
   ]
  },
  {
   "cell_type": "code",
   "execution_count": null,
   "id": "4f3d9711",
   "metadata": {},
   "outputs": [],
   "source": [
    "SELECT \n",
    "    u.first_name || ' ' || u.last_name AS Full_name,\n",
    "    COUNT(f.follows) AS Count_followers\n",
    "FROM follows AS f\n",
    "JOIN users AS u ON u.user_id = f.follows \n",
    "WHERE f.date < '1999-12-31'\n",
    "GROUP BY f.follows"
   ]
  },
  {
   "cell_type": "code",
   "execution_count": null,
   "id": "e12471e6",
   "metadata": {},
   "outputs": [],
   "source": [
    "Full_name       |Count_followers|\n",
    "----------------+---------------+\n",
    "Harry Potter    |              5|\n",
    "Ron Wesley      |              3|\n",
    "Hermonie Granger|              1|\n",
    "Ginny Weasley   |              1|\n",
    "Tom Riddle      |              1|\n",
    "Luna Lovegood   |              1|\n",
    "Cho Chang       |              3|\n",
    "Cedric Diggory  |              3|"
   ]
  },
  {
   "cell_type": "markdown",
   "id": "3d414657",
   "metadata": {},
   "source": [
    "Pandas:"
   ]
  },
  {
   "cell_type": "code",
   "execution_count": 123,
   "id": "7cc55aba",
   "metadata": {},
   "outputs": [],
   "source": [
    "df_foll = df_merged[df_merged.date < '1999-12-31'].groupby('follows', as_index=False).count()\n",
    "df_foll = df_foll[['follows', 'date']]"
   ]
  },
  {
   "cell_type": "code",
   "execution_count": 124,
   "id": "5ad2e532",
   "metadata": {},
   "outputs": [],
   "source": [
    "df_foll = df_foll.rename(columns={'follows': 'user_id', 'date': 'Count followers'})"
   ]
  },
  {
   "cell_type": "code",
   "execution_count": 125,
   "id": "540b90fb",
   "metadata": {},
   "outputs": [],
   "source": [
    "df_foll = df_foll.merge(users, how='left', on='user_id') "
   ]
  },
  {
   "cell_type": "code",
   "execution_count": 126,
   "id": "e8f8ab9c",
   "metadata": {},
   "outputs": [],
   "source": [
    "df_foll[\"Full name\"] = df_foll.first_name + \" \" + df_foll.last_name"
   ]
  },
  {
   "cell_type": "code",
   "execution_count": 128,
   "id": "014ca8ee",
   "metadata": {},
   "outputs": [],
   "source": [
    "df_foll = df_foll[['Full name', 'Count followers']]"
   ]
  },
  {
   "cell_type": "code",
   "execution_count": 129,
   "id": "7e93c120",
   "metadata": {},
   "outputs": [
    {
     "data": {
      "text/html": [
       "<div>\n",
       "<style scoped>\n",
       "    .dataframe tbody tr th:only-of-type {\n",
       "        vertical-align: middle;\n",
       "    }\n",
       "\n",
       "    .dataframe tbody tr th {\n",
       "        vertical-align: top;\n",
       "    }\n",
       "\n",
       "    .dataframe thead th {\n",
       "        text-align: right;\n",
       "    }\n",
       "</style>\n",
       "<table border=\"1\" class=\"dataframe\">\n",
       "  <thead>\n",
       "    <tr style=\"text-align: right;\">\n",
       "      <th></th>\n",
       "      <th>Full name</th>\n",
       "      <th>Count followers</th>\n",
       "    </tr>\n",
       "  </thead>\n",
       "  <tbody>\n",
       "    <tr>\n",
       "      <th>0</th>\n",
       "      <td>Harry Potter</td>\n",
       "      <td>5</td>\n",
       "    </tr>\n",
       "    <tr>\n",
       "      <th>1</th>\n",
       "      <td>Ron Wesley</td>\n",
       "      <td>3</td>\n",
       "    </tr>\n",
       "    <tr>\n",
       "      <th>2</th>\n",
       "      <td>Hermonie Granger</td>\n",
       "      <td>1</td>\n",
       "    </tr>\n",
       "    <tr>\n",
       "      <th>3</th>\n",
       "      <td>Ginny Weasley</td>\n",
       "      <td>1</td>\n",
       "    </tr>\n",
       "    <tr>\n",
       "      <th>4</th>\n",
       "      <td>Tom Riddle</td>\n",
       "      <td>1</td>\n",
       "    </tr>\n",
       "    <tr>\n",
       "      <th>5</th>\n",
       "      <td>Luna Lovegood</td>\n",
       "      <td>1</td>\n",
       "    </tr>\n",
       "    <tr>\n",
       "      <th>6</th>\n",
       "      <td>Cho Chang</td>\n",
       "      <td>3</td>\n",
       "    </tr>\n",
       "    <tr>\n",
       "      <th>7</th>\n",
       "      <td>Cedric Diggory</td>\n",
       "      <td>3</td>\n",
       "    </tr>\n",
       "  </tbody>\n",
       "</table>\n",
       "</div>"
      ],
      "text/plain": [
       "          Full name  Count followers\n",
       "0      Harry Potter                5\n",
       "1        Ron Wesley                3\n",
       "2  Hermonie Granger                1\n",
       "3     Ginny Weasley                1\n",
       "4        Tom Riddle                1\n",
       "5     Luna Lovegood                1\n",
       "6         Cho Chang                3\n",
       "7    Cedric Diggory                3"
      ]
     },
     "execution_count": 129,
     "metadata": {},
     "output_type": "execute_result"
    }
   ],
   "source": [
    "df_foll"
   ]
  },
  {
   "cell_type": "markdown",
   "id": "11272da6",
   "metadata": {},
   "source": [
    "## List the number of users each user follows"
   ]
  },
  {
   "cell_type": "markdown",
   "id": "932b7146",
   "metadata": {},
   "source": [
    "SQL querie:"
   ]
  },
  {
   "cell_type": "code",
   "execution_count": null,
   "id": "348ff2dd",
   "metadata": {},
   "outputs": [],
   "source": [
    "SELECT \n",
    "    u.first_name || ' ' || u.last_name AS Full_name,\n",
    "    COUNT(f.user_id) AS Count_people_followed\n",
    "FROM follows AS f\n",
    "JOIN users AS u ON u.user_id = f.user_id \n",
    "GROUP BY f.user_id "
   ]
  },
  {
   "cell_type": "code",
   "execution_count": null,
   "id": "993e24e4",
   "metadata": {},
   "outputs": [],
   "source": [
    "Full_name       |Count_people_followed|\n",
    "----------------+---------------------+\n",
    "Harry Potter    |                    5|\n",
    "Ron Wesley      |                    2|\n",
    "Hermonie Granger|                    3|\n",
    "Ginny Weasley   |                    3|\n",
    "Draco Malfoy    |                    2|\n",
    "Luna Lovegood   |                    2|\n",
    "Cho Chang       |                    2|\n",
    "Cedric Diggory  |                    1|"
   ]
  },
  {
   "cell_type": "markdown",
   "id": "7b050c43",
   "metadata": {},
   "source": [
    "Pandas:"
   ]
  },
  {
   "cell_type": "code",
   "execution_count": 179,
   "id": "26da4e1c",
   "metadata": {},
   "outputs": [],
   "source": [
    "df_user = df_merged.groupby('user_id', as_index=False).count()"
   ]
  },
  {
   "cell_type": "code",
   "execution_count": 180,
   "id": "bdd083a8",
   "metadata": {},
   "outputs": [],
   "source": [
    "df_user = df_user[['user_id', 'follows']]"
   ]
  },
  {
   "cell_type": "code",
   "execution_count": 181,
   "id": "137be876",
   "metadata": {},
   "outputs": [],
   "source": [
    "df_user = df_user.merge(users, how='left', on='user_id') "
   ]
  },
  {
   "cell_type": "code",
   "execution_count": 182,
   "id": "1af83293",
   "metadata": {},
   "outputs": [],
   "source": [
    "df_user[\"Full name\"] = df_user.first_name + \" \" + df_user.last_name"
   ]
  },
  {
   "cell_type": "code",
   "execution_count": 183,
   "id": "477e473a",
   "metadata": {},
   "outputs": [],
   "source": [
    "df_user = df_user[['Full name', 'follows']]"
   ]
  },
  {
   "cell_type": "code",
   "execution_count": 184,
   "id": "878fc77a",
   "metadata": {},
   "outputs": [],
   "source": [
    "df_user = df_user.rename(columns={'follows': 'Count people followed'})"
   ]
  },
  {
   "cell_type": "code",
   "execution_count": 185,
   "id": "47df21df",
   "metadata": {},
   "outputs": [
    {
     "data": {
      "text/html": [
       "<div>\n",
       "<style scoped>\n",
       "    .dataframe tbody tr th:only-of-type {\n",
       "        vertical-align: middle;\n",
       "    }\n",
       "\n",
       "    .dataframe tbody tr th {\n",
       "        vertical-align: top;\n",
       "    }\n",
       "\n",
       "    .dataframe thead th {\n",
       "        text-align: right;\n",
       "    }\n",
       "</style>\n",
       "<table border=\"1\" class=\"dataframe\">\n",
       "  <thead>\n",
       "    <tr style=\"text-align: right;\">\n",
       "      <th></th>\n",
       "      <th>Full name</th>\n",
       "      <th>Count people followed</th>\n",
       "    </tr>\n",
       "  </thead>\n",
       "  <tbody>\n",
       "    <tr>\n",
       "      <th>0</th>\n",
       "      <td>Harry Potter</td>\n",
       "      <td>5</td>\n",
       "    </tr>\n",
       "    <tr>\n",
       "      <th>1</th>\n",
       "      <td>Ron Wesley</td>\n",
       "      <td>2</td>\n",
       "    </tr>\n",
       "    <tr>\n",
       "      <th>2</th>\n",
       "      <td>Hermonie Granger</td>\n",
       "      <td>3</td>\n",
       "    </tr>\n",
       "    <tr>\n",
       "      <th>3</th>\n",
       "      <td>Ginny Weasley</td>\n",
       "      <td>3</td>\n",
       "    </tr>\n",
       "    <tr>\n",
       "      <th>4</th>\n",
       "      <td>Draco Malfoy</td>\n",
       "      <td>2</td>\n",
       "    </tr>\n",
       "    <tr>\n",
       "      <th>5</th>\n",
       "      <td>Luna Lovegood</td>\n",
       "      <td>2</td>\n",
       "    </tr>\n",
       "    <tr>\n",
       "      <th>6</th>\n",
       "      <td>Cho Chang</td>\n",
       "      <td>2</td>\n",
       "    </tr>\n",
       "    <tr>\n",
       "      <th>7</th>\n",
       "      <td>Cedric Diggory</td>\n",
       "      <td>1</td>\n",
       "    </tr>\n",
       "  </tbody>\n",
       "</table>\n",
       "</div>"
      ],
      "text/plain": [
       "          Full name  Count people followed\n",
       "0      Harry Potter                      5\n",
       "1        Ron Wesley                      2\n",
       "2  Hermonie Granger                      3\n",
       "3     Ginny Weasley                      3\n",
       "4      Draco Malfoy                      2\n",
       "5     Luna Lovegood                      2\n",
       "6         Cho Chang                      2\n",
       "7    Cedric Diggory                      1"
      ]
     },
     "execution_count": 185,
     "metadata": {},
     "output_type": "execute_result"
    }
   ],
   "source": [
    "df_user"
   ]
  },
  {
   "cell_type": "markdown",
   "id": "6c3138c5",
   "metadata": {},
   "source": [
    "## List all rows from follows where someone from one house follows someone from a different house. Please give the result with user names. "
   ]
  },
  {
   "cell_type": "markdown",
   "id": "0be6e41d",
   "metadata": {},
   "source": [
    "SQL querie:"
   ]
  },
  {
   "cell_type": "code",
   "execution_count": null,
   "id": "11afe3eb",
   "metadata": {},
   "outputs": [],
   "source": []
  },
  {
   "cell_type": "markdown",
   "id": "a6a730d3",
   "metadata": {},
   "source": [
    "Pandas:"
   ]
  },
  {
   "cell_type": "code",
   "execution_count": 220,
   "id": "0515b68e",
   "metadata": {},
   "outputs": [],
   "source": [
    "df_houses = df_merged\n",
    "df_houses[\"Full name user\"] = df_houses.first_name + \" \" + df_houses.last_name\n",
    "df_houses = df_houses[['Full name user', 'house', 'follows']]"
   ]
  },
  {
   "cell_type": "code",
   "execution_count": 221,
   "id": "7ad61e53",
   "metadata": {},
   "outputs": [],
   "source": [
    "df_houses = df_houses.rename(columns={'house': 'House of user'})"
   ]
  },
  {
   "cell_type": "code",
   "execution_count": 222,
   "id": "1b02b5b3",
   "metadata": {},
   "outputs": [],
   "source": [
    "df_houses = pd.merge(df_houses,users, how='left',left_on=['follows'],right_on=['user_id'])"
   ]
  },
  {
   "cell_type": "code",
   "execution_count": 223,
   "id": "37b72472",
   "metadata": {},
   "outputs": [],
   "source": [
    "df_houses[\"Full name follower\"] = df_houses.first_name + \" \" + df_houses.last_name"
   ]
  },
  {
   "cell_type": "code",
   "execution_count": 224,
   "id": "f2ddb9e4",
   "metadata": {},
   "outputs": [],
   "source": [
    "df_houses = df_houses.rename(columns={'house': 'House of follower'})"
   ]
  },
  {
   "cell_type": "code",
   "execution_count": 225,
   "id": "03448221",
   "metadata": {},
   "outputs": [],
   "source": [
    "df_houses = df_houses[['Full name user', 'House of user', 'Full name follower', 'House of follower']]"
   ]
  },
  {
   "cell_type": "code",
   "execution_count": 226,
   "id": "8c6fd8db",
   "metadata": {},
   "outputs": [],
   "source": [
    "df_houses_dif = df_houses[df_houses['House of user'] != df_houses['House of follower']]"
   ]
  },
  {
   "cell_type": "code",
   "execution_count": 227,
   "id": "93107133",
   "metadata": {},
   "outputs": [
    {
     "data": {
      "text/html": [
       "<div>\n",
       "<style scoped>\n",
       "    .dataframe tbody tr th:only-of-type {\n",
       "        vertical-align: middle;\n",
       "    }\n",
       "\n",
       "    .dataframe tbody tr th {\n",
       "        vertical-align: top;\n",
       "    }\n",
       "\n",
       "    .dataframe thead th {\n",
       "        text-align: right;\n",
       "    }\n",
       "</style>\n",
       "<table border=\"1\" class=\"dataframe\">\n",
       "  <thead>\n",
       "    <tr style=\"text-align: right;\">\n",
       "      <th></th>\n",
       "      <th>Full name user</th>\n",
       "    </tr>\n",
       "  </thead>\n",
       "  <tbody>\n",
       "    <tr>\n",
       "      <th>8</th>\n",
       "      <td>Harry Potter</td>\n",
       "    </tr>\n",
       "    <tr>\n",
       "      <th>9</th>\n",
       "      <td>Draco Malfoy</td>\n",
       "    </tr>\n",
       "    <tr>\n",
       "      <th>11</th>\n",
       "      <td>Luna Lovegood</td>\n",
       "    </tr>\n",
       "    <tr>\n",
       "      <th>12</th>\n",
       "      <td>Harry Potter</td>\n",
       "    </tr>\n",
       "    <tr>\n",
       "      <th>13</th>\n",
       "      <td>Harry Potter</td>\n",
       "    </tr>\n",
       "    <tr>\n",
       "      <th>14</th>\n",
       "      <td>Cho Chang</td>\n",
       "    </tr>\n",
       "    <tr>\n",
       "      <th>15</th>\n",
       "      <td>Cho Chang</td>\n",
       "    </tr>\n",
       "    <tr>\n",
       "      <th>16</th>\n",
       "      <td>Cedric Diggory</td>\n",
       "    </tr>\n",
       "    <tr>\n",
       "      <th>18</th>\n",
       "      <td>Hermonie Granger</td>\n",
       "    </tr>\n",
       "    <tr>\n",
       "      <th>19</th>\n",
       "      <td>Ginny Weasley</td>\n",
       "    </tr>\n",
       "  </tbody>\n",
       "</table>\n",
       "</div>"
      ],
      "text/plain": [
       "      Full name user\n",
       "8       Harry Potter\n",
       "9       Draco Malfoy\n",
       "11     Luna Lovegood\n",
       "12      Harry Potter\n",
       "13      Harry Potter\n",
       "14         Cho Chang\n",
       "15         Cho Chang\n",
       "16    Cedric Diggory\n",
       "18  Hermonie Granger\n",
       "19     Ginny Weasley"
      ]
     },
     "execution_count": 227,
     "metadata": {},
     "output_type": "execute_result"
    }
   ],
   "source": [
    "df_houses_dif[['Full name user']]"
   ]
  },
  {
   "cell_type": "markdown",
   "id": "8da66a89",
   "metadata": {},
   "source": [
    "## List all unrequited followings (i.e. where A follows B but B does not follow A) "
   ]
  },
  {
   "cell_type": "markdown",
   "id": "8da5f818",
   "metadata": {},
   "source": [
    "SQL querie:"
   ]
  },
  {
   "cell_type": "code",
   "execution_count": null,
   "id": "32db2014",
   "metadata": {},
   "outputs": [],
   "source": []
  },
  {
   "cell_type": "markdown",
   "id": "88ce3460",
   "metadata": {},
   "source": [
    "Pandas:"
   ]
  },
  {
   "cell_type": "code",
   "execution_count": null,
   "id": "d32b5f33",
   "metadata": {},
   "outputs": [],
   "source": []
  },
  {
   "cell_type": "code",
   "execution_count": 228,
   "id": "7dd594cc",
   "metadata": {},
   "outputs": [
    {
     "data": {
      "text/html": [
       "<div>\n",
       "<style scoped>\n",
       "    .dataframe tbody tr th:only-of-type {\n",
       "        vertical-align: middle;\n",
       "    }\n",
       "\n",
       "    .dataframe tbody tr th {\n",
       "        vertical-align: top;\n",
       "    }\n",
       "\n",
       "    .dataframe thead th {\n",
       "        text-align: right;\n",
       "    }\n",
       "</style>\n",
       "<table border=\"1\" class=\"dataframe\">\n",
       "  <thead>\n",
       "    <tr style=\"text-align: right;\">\n",
       "      <th></th>\n",
       "      <th>Full name user</th>\n",
       "      <th>House of user</th>\n",
       "      <th>Full name follower</th>\n",
       "      <th>House of follower</th>\n",
       "    </tr>\n",
       "  </thead>\n",
       "  <tbody>\n",
       "    <tr>\n",
       "      <th>0</th>\n",
       "      <td>Harry Potter</td>\n",
       "      <td>Gryffindor</td>\n",
       "      <td>Ron Wesley</td>\n",
       "      <td>Gryffindor</td>\n",
       "    </tr>\n",
       "    <tr>\n",
       "      <th>1</th>\n",
       "      <td>Ron Wesley</td>\n",
       "      <td>Gryffindor</td>\n",
       "      <td>Harry Potter</td>\n",
       "      <td>Gryffindor</td>\n",
       "    </tr>\n",
       "    <tr>\n",
       "      <th>2</th>\n",
       "      <td>Hermonie Granger</td>\n",
       "      <td>Gryffindor</td>\n",
       "      <td>Harry Potter</td>\n",
       "      <td>Gryffindor</td>\n",
       "    </tr>\n",
       "    <tr>\n",
       "      <th>3</th>\n",
       "      <td>Ron Wesley</td>\n",
       "      <td>Gryffindor</td>\n",
       "      <td>Hermonie Granger</td>\n",
       "      <td>Gryffindor</td>\n",
       "    </tr>\n",
       "    <tr>\n",
       "      <th>4</th>\n",
       "      <td>Hermonie Granger</td>\n",
       "      <td>Gryffindor</td>\n",
       "      <td>Ron Wesley</td>\n",
       "      <td>Gryffindor</td>\n",
       "    </tr>\n",
       "    <tr>\n",
       "      <th>5</th>\n",
       "      <td>Ginny Weasley</td>\n",
       "      <td>Gryffindor</td>\n",
       "      <td>Ron Wesley</td>\n",
       "      <td>Gryffindor</td>\n",
       "    </tr>\n",
       "    <tr>\n",
       "      <th>6</th>\n",
       "      <td>Ginny Weasley</td>\n",
       "      <td>Gryffindor</td>\n",
       "      <td>Harry Potter</td>\n",
       "      <td>Gryffindor</td>\n",
       "    </tr>\n",
       "    <tr>\n",
       "      <th>7</th>\n",
       "      <td>Harry Potter</td>\n",
       "      <td>Gryffindor</td>\n",
       "      <td>Ginny Weasley</td>\n",
       "      <td>Gryffindor</td>\n",
       "    </tr>\n",
       "    <tr>\n",
       "      <th>8</th>\n",
       "      <td>Harry Potter</td>\n",
       "      <td>Gryffindor</td>\n",
       "      <td>Draco Malfoy</td>\n",
       "      <td>Slytherin</td>\n",
       "    </tr>\n",
       "    <tr>\n",
       "      <th>9</th>\n",
       "      <td>Draco Malfoy</td>\n",
       "      <td>Slytherin</td>\n",
       "      <td>Harry Potter</td>\n",
       "      <td>Gryffindor</td>\n",
       "    </tr>\n",
       "    <tr>\n",
       "      <th>10</th>\n",
       "      <td>Draco Malfoy</td>\n",
       "      <td>Slytherin</td>\n",
       "      <td>Tom Riddle</td>\n",
       "      <td>Slytherin</td>\n",
       "    </tr>\n",
       "    <tr>\n",
       "      <th>11</th>\n",
       "      <td>Luna Lovegood</td>\n",
       "      <td>Ravenclaw</td>\n",
       "      <td>Harry Potter</td>\n",
       "      <td>Gryffindor</td>\n",
       "    </tr>\n",
       "    <tr>\n",
       "      <th>12</th>\n",
       "      <td>Harry Potter</td>\n",
       "      <td>Gryffindor</td>\n",
       "      <td>Luna Lovegood</td>\n",
       "      <td>Ravenclaw</td>\n",
       "    </tr>\n",
       "    <tr>\n",
       "      <th>13</th>\n",
       "      <td>Harry Potter</td>\n",
       "      <td>Gryffindor</td>\n",
       "      <td>Cho Chang</td>\n",
       "      <td>Ravenclaw</td>\n",
       "    </tr>\n",
       "    <tr>\n",
       "      <th>14</th>\n",
       "      <td>Cho Chang</td>\n",
       "      <td>Ravenclaw</td>\n",
       "      <td>Harry Potter</td>\n",
       "      <td>Gryffindor</td>\n",
       "    </tr>\n",
       "    <tr>\n",
       "      <th>15</th>\n",
       "      <td>Cho Chang</td>\n",
       "      <td>Ravenclaw</td>\n",
       "      <td>Cedric Diggory</td>\n",
       "      <td>Hufflepuff</td>\n",
       "    </tr>\n",
       "    <tr>\n",
       "      <th>16</th>\n",
       "      <td>Cedric Diggory</td>\n",
       "      <td>Hufflepuff</td>\n",
       "      <td>Cho Chang</td>\n",
       "      <td>Ravenclaw</td>\n",
       "    </tr>\n",
       "    <tr>\n",
       "      <th>17</th>\n",
       "      <td>Luna Lovegood</td>\n",
       "      <td>Ravenclaw</td>\n",
       "      <td>Cho Chang</td>\n",
       "      <td>Ravenclaw</td>\n",
       "    </tr>\n",
       "    <tr>\n",
       "      <th>18</th>\n",
       "      <td>Hermonie Granger</td>\n",
       "      <td>Gryffindor</td>\n",
       "      <td>Cedric Diggory</td>\n",
       "      <td>Hufflepuff</td>\n",
       "    </tr>\n",
       "    <tr>\n",
       "      <th>19</th>\n",
       "      <td>Ginny Weasley</td>\n",
       "      <td>Gryffindor</td>\n",
       "      <td>Cedric Diggory</td>\n",
       "      <td>Hufflepuff</td>\n",
       "    </tr>\n",
       "  </tbody>\n",
       "</table>\n",
       "</div>"
      ],
      "text/plain": [
       "      Full name user House of user Full name follower House of follower\n",
       "0       Harry Potter    Gryffindor         Ron Wesley        Gryffindor\n",
       "1         Ron Wesley    Gryffindor       Harry Potter        Gryffindor\n",
       "2   Hermonie Granger    Gryffindor       Harry Potter        Gryffindor\n",
       "3         Ron Wesley    Gryffindor   Hermonie Granger        Gryffindor\n",
       "4   Hermonie Granger    Gryffindor         Ron Wesley        Gryffindor\n",
       "5      Ginny Weasley    Gryffindor         Ron Wesley        Gryffindor\n",
       "6      Ginny Weasley    Gryffindor       Harry Potter        Gryffindor\n",
       "7       Harry Potter    Gryffindor      Ginny Weasley        Gryffindor\n",
       "8       Harry Potter    Gryffindor       Draco Malfoy         Slytherin\n",
       "9       Draco Malfoy     Slytherin       Harry Potter        Gryffindor\n",
       "10      Draco Malfoy     Slytherin         Tom Riddle         Slytherin\n",
       "11     Luna Lovegood     Ravenclaw       Harry Potter        Gryffindor\n",
       "12      Harry Potter    Gryffindor      Luna Lovegood         Ravenclaw\n",
       "13      Harry Potter    Gryffindor          Cho Chang         Ravenclaw\n",
       "14         Cho Chang     Ravenclaw       Harry Potter        Gryffindor\n",
       "15         Cho Chang     Ravenclaw     Cedric Diggory        Hufflepuff\n",
       "16    Cedric Diggory    Hufflepuff          Cho Chang         Ravenclaw\n",
       "17     Luna Lovegood     Ravenclaw          Cho Chang         Ravenclaw\n",
       "18  Hermonie Granger    Gryffindor     Cedric Diggory        Hufflepuff\n",
       "19     Ginny Weasley    Gryffindor     Cedric Diggory        Hufflepuff"
      ]
     },
     "execution_count": 228,
     "metadata": {},
     "output_type": "execute_result"
    }
   ],
   "source": [
    "df_houses"
   ]
  },
  {
   "cell_type": "code",
   "execution_count": null,
   "id": "be490729",
   "metadata": {},
   "outputs": [],
   "source": []
  }
 ],
 "metadata": {
  "kernelspec": {
   "display_name": "Python 3 (ipykernel)",
   "language": "python",
   "name": "python3"
  },
  "language_info": {
   "codemirror_mode": {
    "name": "ipython",
    "version": 3
   },
   "file_extension": ".py",
   "mimetype": "text/x-python",
   "name": "python",
   "nbconvert_exporter": "python",
   "pygments_lexer": "ipython3",
   "version": "3.8.6"
  },
  "toc": {
   "base_numbering": 1,
   "nav_menu": {},
   "number_sections": true,
   "sideBar": true,
   "skip_h1_title": false,
   "title_cell": "Table of Contents",
   "title_sidebar": "Contents",
   "toc_cell": false,
   "toc_position": {},
   "toc_section_display": true,
   "toc_window_display": false
  }
 },
 "nbformat": 4,
 "nbformat_minor": 5
}
